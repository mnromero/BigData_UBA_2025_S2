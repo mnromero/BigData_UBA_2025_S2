{
 "cells": [
  {
   "attachments": {},
   "cell_type": "markdown",
   "id": "2d3afc7f-0705-4ae7-b63b-9a662e23eb88",
   "metadata": {},
   "source": [
    "#  Big Data y Machine Learning (UBA) 2025\n",
    "## Clase 1 - Parte 2 - Bonus de Visualización con Seaborn\n",
    "\n",
    "**Objetivo:**\n",
    "\n",
    "Este Jupyter Notebook, ilustra como incorporar los tres principios de visualización de [Schwabish (2014)](https://www.aeaweb.org/articles?id=10.1257/jep.28.1.209) para visualizar información de la Tabla 2 del trabajo de [Allen (2019)](https://onlinelibrary.wiley.com/doi/abs/10.1111/ehr.12661) pag. 104. Conb dicha información, Allen (2019) hace un punto interesante al comparar dos formas de medir el share de agricultura en la economía de Inglaterra del s. XVII al XIX.\n",
    "\n",
    "Usaremos el modulo de `seaborn`, también muy utilizada en procesamiento y visualización de datos en Python. Para más información ver [seaborn](https://seaborn.pydata.org/)"
   ]
  },
  {
   "cell_type": "code",
   "execution_count": null,
   "id": "10fcfad5-0c40-4ab2-850b-336c2a20bf24",
   "metadata": {},
   "outputs": [],
   "source": [
    "# Primero, installamos el paquete\n",
    "#!pip install seaborn"
   ]
  },
  {
   "cell_type": "code",
   "execution_count": null,
   "id": "44576143-7cd4-4a7f-aa47-b7bf7c23d04e",
   "metadata": {},
   "outputs": [],
   "source": [
    "import matplotlib.pyplot as plt\n",
    "import seaborn as sns\n",
    "import pandas as pd"
   ]
  },
  {
   "cell_type": "code",
   "execution_count": null,
   "id": "bbd7b893-d7c3-4ffc-87cc-d6926290c647",
   "metadata": {},
   "outputs": [],
   "source": [
    "# Datos en la Tabla 2. pagina 104\n",
    "years = [1688, 1759, 1798, 1846, 1867]\n",
    "serie1 = [46, 46, 35, 21, 15]\n",
    "serie2 = [39, 38, 33, 20, 20]\n",
    "\n",
    "# Crear DataFrames para cada serie\n",
    "df1 = pd.DataFrame({'Years': years, 'Value_added': serie1})\n",
    "df2 = pd.DataFrame({'Years': years, 'Labour_force': serie2})"
   ]
  },
  {
   "cell_type": "code",
   "execution_count": null,
   "id": "5e918cd7-25b9-4663-bdff-33601d1efdce",
   "metadata": {},
   "outputs": [],
   "source": [
    "# Configurar el estilo de Seaborn\n",
    "sns.set(style=\"whitegrid\")\n",
    "\n",
    "# Crear un figura con dos subplots\n",
    "fig, axs = plt.subplots(1, 2, figsize=(10, 6))\n",
    "\n",
    "# Gráfico de barras para Serie 1\n",
    "sns.barplot(x='Years', y='Value_added', data=df1, ax=axs[0], alpha=0.9)\n",
    "axs[0].set_title('Value Added')\n",
    "axs[0].set_ylim(0,50)\n",
    "\n",
    "# Gráfico de barras para Serie 2\n",
    "sns.barplot(x='Years', y='Labour_force', data=df2, ax=axs[1], alpha=0.9)\n",
    "axs[1].set_title('Labour Force')\n",
    "axs[1].set_ylim(0,50)\n",
    "\n",
    "# Etiquetas para los ejes\n",
    "for ax in axs:\n",
    "    ax.set_xlabel('Years')\n",
    "    ax.set_ylabel('Valor')\n",
    "\n",
    "# Layout ajustado\n",
    "fig.tight_layout()\n",
    "\n",
    "# Mostrar los gráficos\n",
    "plt.show()"
   ]
  },
  {
   "cell_type": "markdown",
   "id": "e6cef8bd-4757-4a5f-aaf7-daccd29b67f4",
   "metadata": {},
   "source": [
    "Dicha figura ilustra mucho mejor un punto que destaca el autor Allen (2019) en el trabajo: el share de la agricultura en la economía de Inglaterra cae más (un 20 puntos porcentuales) mucho entre 1688 y 1867 cuando se usa la medición por la fuerza laboral (panel de la derecha). Esta diferencia en ambas mediciones (sobretodo para 1688: 46% vs. 39% de share de agricultura) se debe a que las rentas agriculas tienen mayor peso en la medición por valor agregado (panel de la izquierda), mientras que los salarios agricolas eran muy bajos en 1688."
   ]
  },
  {
   "cell_type": "code",
   "execution_count": null,
   "id": "5e1de9e7-4b2d-4af5-b8d9-cbb34d9447d8",
   "metadata": {},
   "outputs": [],
   "source": []
  }
 ],
 "metadata": {
  "kernelspec": {
   "display_name": "Python [conda env:base] *",
   "language": "python",
   "name": "conda-base-py"
  },
  "language_info": {
   "codemirror_mode": {
    "name": "ipython",
    "version": 3
   },
   "file_extension": ".py",
   "mimetype": "text/x-python",
   "name": "python",
   "nbconvert_exporter": "python",
   "pygments_lexer": "ipython3",
   "version": "3.12.4"
  }
 },
 "nbformat": 4,
 "nbformat_minor": 5
}
