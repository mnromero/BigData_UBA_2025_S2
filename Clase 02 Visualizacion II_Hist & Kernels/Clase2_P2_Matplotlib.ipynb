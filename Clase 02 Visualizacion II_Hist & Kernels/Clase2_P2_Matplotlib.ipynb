{
 "cells": [
  {
   "cell_type": "markdown",
   "metadata": {
    "id": "FjZT3QZcKOuf"
   },
   "source": [
    "# Big Data y Machine Learning (UBA) 2025\n",
    "## Clase 4 - Parte 2\n",
    "\n",
    "El objetivo es graficar con matplotlib."
   ]
  },
  {
   "cell_type": "markdown",
   "metadata": {},
   "source": [
    "Matplotlib es la librería base de graficación, sobre la cual se montan otras librerías. Dentro de Matplotlib, usamos la dependencia \"pyplot\" que se instala con la librería. Por convención importamos así:"
   ]
  },
  {
   "cell_type": "code",
   "execution_count": 3,
   "metadata": {},
   "outputs": [],
   "source": [
    "# Primero, instalar la libreria:\n",
    "#!pip install matplotlib\n",
    "import matplotlib.pyplot as plt # importamos la librería gráfica. plt es el nombre por convención que se le asigna"
   ]
  },
  {
   "cell_type": "markdown",
   "metadata": {},
   "source": [
    "Matplotlib genera los gráficos sobre dos objetos interrelacionados:\n",
    "- Figura (*Figure*): la hoja en blanco, el recuadro que contiene hacia adentro el/los gráfico/s. En términos prácticos esto ocurre detrás de escenas, pero es lo que permite dibujar el gráfico.\n",
    "- Ejes (*Axes*): el gráfico en sí, los ejes y la informacíon graficada. La representación de la información sobre ejes."
   ]
  },
  {
   "cell_type": "markdown",
   "metadata": {},
   "source": [
    "Las partes de un gráfico\n",
    "<img src=\"https://matplotlib.org/stable/_images/anatomy.png\"\n",
    "     width=500/>"
   ]
  },
  {
   "cell_type": "markdown",
   "metadata": {},
   "source": [
    "Hay esencialmente dos maneras de graficar con Matplotlib:\n",
    "- **Estilo pyplot**: simple y rápida para figuras que no son muy avanzadas. Quizás más fácil para empezar.\n",
    "- **Estilo orientado-objetos**: un poco más complejo pero necesario para figuras que requieren mucha personalización.\n",
    "\n",
    "En cuanto al resultado estético, con ambos se puede lograr la misma calidad. Para dar los primeros pasos es indistinto cual se use. Sin embargo, el estilo orientado a objetos es necesario para figuras más complejas donde hay varios gráficos (subplots) y es necesario definir parámetros distintos para cada par de ejes (2D)"
   ]
  },
  {
   "cell_type": "markdown",
   "metadata": {
    "id": "_wHJy23yKOuh"
   },
   "source": [
    "### Graficar con matplotlib"
   ]
  },
  {
   "cell_type": "code",
   "execution_count": 5,
   "metadata": {
    "executionInfo": {
     "elapsed": 1094,
     "status": "ok",
     "timestamp": 1661282643386,
     "user": {
      "displayName": "Belén Michel Torino",
      "userId": "16232771333703850174"
     },
     "user_tz": 240
    },
    "id": "nrMwI5vWKOuh"
   },
   "outputs": [],
   "source": [
    "import matplotlib.pyplot as plt\n",
    "import pandas as pd"
   ]
  },
  {
   "cell_type": "code",
   "execution_count": 7,
   "metadata": {},
   "outputs": [],
   "source": [
    "import os\n",
    "os.chdir(\"/Users/mnromero/Dropbox/COURSES/2025 - S1- Big Data y Machine Learning (UBA)/Clases/Clase 4_Pandas & Matplotlib\")"
   ]
  },
  {
   "cell_type": "code",
   "execution_count": 9,
   "metadata": {
    "colab": {
     "base_uri": "https://localhost:8080/",
     "height": 353
    },
    "executionInfo": {
     "elapsed": 289,
     "status": "error",
     "timestamp": 1661282644488,
     "user": {
      "displayName": "Belén Michel Torino",
      "userId": "16232771333703850174"
     },
     "user_tz": 240
    },
    "id": "JCYTjWGHKOui",
    "outputId": "4b13c0cd-44ad-47f2-d28e-9a79fc39c177"
   },
   "outputs": [],
   "source": [
    "# Abrimos el archivo de potencia energética instalada en el país\n",
    "df = pd.read_excel(\"potencia_instalada.xlsx\")"
   ]
  },
  {
   "cell_type": "code",
   "execution_count": 11,
   "metadata": {},
   "outputs": [
    {
     "data": {
      "text/html": [
       "<div>\n",
       "<style scoped>\n",
       "    .dataframe tbody tr th:only-of-type {\n",
       "        vertical-align: middle;\n",
       "    }\n",
       "\n",
       "    .dataframe tbody tr th {\n",
       "        vertical-align: top;\n",
       "    }\n",
       "\n",
       "    .dataframe thead th {\n",
       "        text-align: right;\n",
       "    }\n",
       "</style>\n",
       "<table border=\"1\" class=\"dataframe\">\n",
       "  <thead>\n",
       "    <tr style=\"text-align: right;\">\n",
       "      <th></th>\n",
       "      <th>id</th>\n",
       "      <th>periodo</th>\n",
       "      <th>central</th>\n",
       "      <th>agente</th>\n",
       "      <th>agente_descripcion</th>\n",
       "      <th>region</th>\n",
       "      <th>categoria_region</th>\n",
       "      <th>tipo_maquina</th>\n",
       "      <th>fuente_generacion</th>\n",
       "      <th>tecnologia</th>\n",
       "      <th>potencia_instalada_mw</th>\n",
       "      <th>fecha_proceso</th>\n",
       "      <th>lote_id_log</th>\n",
       "      <th>mes</th>\n",
       "      <th>indice_tiempo</th>\n",
       "    </tr>\n",
       "  </thead>\n",
       "  <tbody>\n",
       "    <tr>\n",
       "      <th>0</th>\n",
       "      <td>2</td>\n",
       "      <td>2015-10-01</td>\n",
       "      <td>ABRO</td>\n",
       "      <td>CTBROWNG</td>\n",
       "      <td>C.T. ALMIRANTE BROWN</td>\n",
       "      <td>GRAN BS.AS.</td>\n",
       "      <td>Gba - Litoral - Buenos Aires</td>\n",
       "      <td>DI</td>\n",
       "      <td>Térmica</td>\n",
       "      <td>Motor Diesel</td>\n",
       "      <td>25.00</td>\n",
       "      <td>00:47:17.900000</td>\n",
       "      <td>4</td>\n",
       "      <td>10</td>\n",
       "      <td>2015-10</td>\n",
       "    </tr>\n",
       "    <tr>\n",
       "      <th>1</th>\n",
       "      <td>3</td>\n",
       "      <td>2015-10-01</td>\n",
       "      <td>ACAJ</td>\n",
       "      <td>CAPEXSAG</td>\n",
       "      <td>C.T. AGUA DEL CAJON</td>\n",
       "      <td>COMAHUE</td>\n",
       "      <td>Comahue</td>\n",
       "      <td>TG</td>\n",
       "      <td>Térmica</td>\n",
       "      <td>Ciclos Combinados</td>\n",
       "      <td>184.40</td>\n",
       "      <td>00:47:17.900000</td>\n",
       "      <td>4</td>\n",
       "      <td>10</td>\n",
       "      <td>2015-10</td>\n",
       "    </tr>\n",
       "    <tr>\n",
       "      <th>2</th>\n",
       "      <td>4</td>\n",
       "      <td>2015-10-01</td>\n",
       "      <td>ADTOHI</td>\n",
       "      <td>HIDIAMAG</td>\n",
       "      <td>H. DIAMANTE SA</td>\n",
       "      <td>CUYO</td>\n",
       "      <td>Cuyo</td>\n",
       "      <td>HI</td>\n",
       "      <td>Hidráulica</td>\n",
       "      <td>Hidráulica</td>\n",
       "      <td>150.00</td>\n",
       "      <td>00:47:17.900000</td>\n",
       "      <td>4</td>\n",
       "      <td>10</td>\n",
       "      <td>2015-10</td>\n",
       "    </tr>\n",
       "    <tr>\n",
       "      <th>3</th>\n",
       "      <td>5</td>\n",
       "      <td>2015-10-01</td>\n",
       "      <td>AESP</td>\n",
       "      <td>CTAESPAG</td>\n",
       "      <td>C.T. AES PARANA</td>\n",
       "      <td>BUENOS AIRES</td>\n",
       "      <td>Gba - Litoral - Buenos Aires</td>\n",
       "      <td>TG</td>\n",
       "      <td>Térmica</td>\n",
       "      <td>Ciclos Combinados</td>\n",
       "      <td>525.96</td>\n",
       "      <td>00:47:17.900000</td>\n",
       "      <td>4</td>\n",
       "      <td>10</td>\n",
       "      <td>2015-10</td>\n",
       "    </tr>\n",
       "    <tr>\n",
       "      <th>4</th>\n",
       "      <td>6</td>\n",
       "      <td>2015-10-01</td>\n",
       "      <td>AESP</td>\n",
       "      <td>CTAESPAG</td>\n",
       "      <td>C.T. AES PARANA</td>\n",
       "      <td>BUENOS AIRES</td>\n",
       "      <td>Gba - Litoral - Buenos Aires</td>\n",
       "      <td>TV</td>\n",
       "      <td>Térmica</td>\n",
       "      <td>Ciclos Combinados</td>\n",
       "      <td>319.30</td>\n",
       "      <td>00:47:17.900000</td>\n",
       "      <td>4</td>\n",
       "      <td>10</td>\n",
       "      <td>2015-10</td>\n",
       "    </tr>\n",
       "    <tr>\n",
       "      <th>...</th>\n",
       "      <td>...</td>\n",
       "      <td>...</td>\n",
       "      <td>...</td>\n",
       "      <td>...</td>\n",
       "      <td>...</td>\n",
       "      <td>...</td>\n",
       "      <td>...</td>\n",
       "      <td>...</td>\n",
       "      <td>...</td>\n",
       "      <td>...</td>\n",
       "      <td>...</td>\n",
       "      <td>...</td>\n",
       "      <td>...</td>\n",
       "      <td>...</td>\n",
       "      <td>...</td>\n",
       "    </tr>\n",
       "    <tr>\n",
       "      <th>11493</th>\n",
       "      <td>12515</td>\n",
       "      <td>2019-04-01</td>\n",
       "      <td>AVEL</td>\n",
       "      <td>CTAVELLG</td>\n",
       "      <td>BIOGAS CT AVELLANEDA SECCO</td>\n",
       "      <td>LITORAL</td>\n",
       "      <td>Gba - Litoral - Buenos Aires</td>\n",
       "      <td>BG</td>\n",
       "      <td>Renovable</td>\n",
       "      <td>Biogas</td>\n",
       "      <td>6.30</td>\n",
       "      <td>00:53:59.300000</td>\n",
       "      <td>46</td>\n",
       "      <td>4</td>\n",
       "      <td>2019-04</td>\n",
       "    </tr>\n",
       "    <tr>\n",
       "      <th>11494</th>\n",
       "      <td>12516</td>\n",
       "      <td>2019-04-01</td>\n",
       "      <td>TIN2FV</td>\n",
       "      <td>PSTINO2G</td>\n",
       "      <td>PQUE SOLAR TINOGASTA II</td>\n",
       "      <td>NOROESTE</td>\n",
       "      <td>Noa</td>\n",
       "      <td>FV</td>\n",
       "      <td>Renovable</td>\n",
       "      <td>Solar</td>\n",
       "      <td>7.00</td>\n",
       "      <td>00:53:59.300000</td>\n",
       "      <td>46</td>\n",
       "      <td>4</td>\n",
       "      <td>2019-04</td>\n",
       "    </tr>\n",
       "    <tr>\n",
       "      <th>11495</th>\n",
       "      <td>12517</td>\n",
       "      <td>2019-04-01</td>\n",
       "      <td>BIC2EO</td>\n",
       "      <td>PEBICE2G</td>\n",
       "      <td>P.EOLICO BICENTENARIO 2</td>\n",
       "      <td>PATAGONICA</td>\n",
       "      <td>Patagonia</td>\n",
       "      <td>EO</td>\n",
       "      <td>Renovable</td>\n",
       "      <td>Eólica</td>\n",
       "      <td>25.20</td>\n",
       "      <td>00:53:59.300000</td>\n",
       "      <td>46</td>\n",
       "      <td>4</td>\n",
       "      <td>2019-04</td>\n",
       "    </tr>\n",
       "    <tr>\n",
       "      <th>11496</th>\n",
       "      <td>12518</td>\n",
       "      <td>2019-04-01</td>\n",
       "      <td>BANDEO</td>\n",
       "      <td>PEBANDEG</td>\n",
       "      <td>P.EOLICO LA BANDERITA</td>\n",
       "      <td>COMAHUE</td>\n",
       "      <td>Comahue</td>\n",
       "      <td>EO</td>\n",
       "      <td>Renovable</td>\n",
       "      <td>Eólica</td>\n",
       "      <td>39.60</td>\n",
       "      <td>00:53:59.300000</td>\n",
       "      <td>46</td>\n",
       "      <td>4</td>\n",
       "      <td>2019-04</td>\n",
       "    </tr>\n",
       "    <tr>\n",
       "      <th>11497</th>\n",
       "      <td>12519</td>\n",
       "      <td>2019-04-01</td>\n",
       "      <td>TINOFV</td>\n",
       "      <td>PSTINO1G</td>\n",
       "      <td>PQUE SOLAR TINOGASTA I</td>\n",
       "      <td>NOROESTE</td>\n",
       "      <td>Noa</td>\n",
       "      <td>FV</td>\n",
       "      <td>Renovable</td>\n",
       "      <td>Solar</td>\n",
       "      <td>15.00</td>\n",
       "      <td>00:53:59.300000</td>\n",
       "      <td>46</td>\n",
       "      <td>4</td>\n",
       "      <td>2019-04</td>\n",
       "    </tr>\n",
       "  </tbody>\n",
       "</table>\n",
       "<p>11498 rows × 15 columns</p>\n",
       "</div>"
      ],
      "text/plain": [
       "          id    periodo central    agente          agente_descripcion  \\\n",
       "0          2 2015-10-01    ABRO  CTBROWNG        C.T. ALMIRANTE BROWN   \n",
       "1          3 2015-10-01    ACAJ  CAPEXSAG         C.T. AGUA DEL CAJON   \n",
       "2          4 2015-10-01  ADTOHI  HIDIAMAG              H. DIAMANTE SA   \n",
       "3          5 2015-10-01    AESP  CTAESPAG             C.T. AES PARANA   \n",
       "4          6 2015-10-01    AESP  CTAESPAG             C.T. AES PARANA   \n",
       "...      ...        ...     ...       ...                         ...   \n",
       "11493  12515 2019-04-01    AVEL  CTAVELLG  BIOGAS CT AVELLANEDA SECCO   \n",
       "11494  12516 2019-04-01  TIN2FV  PSTINO2G     PQUE SOLAR TINOGASTA II   \n",
       "11495  12517 2019-04-01  BIC2EO  PEBICE2G     P.EOLICO BICENTENARIO 2   \n",
       "11496  12518 2019-04-01  BANDEO  PEBANDEG       P.EOLICO LA BANDERITA   \n",
       "11497  12519 2019-04-01  TINOFV  PSTINO1G      PQUE SOLAR TINOGASTA I   \n",
       "\n",
       "             region              categoria_region tipo_maquina  \\\n",
       "0       GRAN BS.AS.  Gba - Litoral - Buenos Aires           DI   \n",
       "1           COMAHUE                       Comahue           TG   \n",
       "2              CUYO                          Cuyo           HI   \n",
       "3      BUENOS AIRES  Gba - Litoral - Buenos Aires           TG   \n",
       "4      BUENOS AIRES  Gba - Litoral - Buenos Aires           TV   \n",
       "...             ...                           ...          ...   \n",
       "11493       LITORAL  Gba - Litoral - Buenos Aires           BG   \n",
       "11494      NOROESTE                           Noa           FV   \n",
       "11495    PATAGONICA                     Patagonia           EO   \n",
       "11496       COMAHUE                       Comahue           EO   \n",
       "11497      NOROESTE                           Noa           FV   \n",
       "\n",
       "      fuente_generacion         tecnologia  potencia_instalada_mw  \\\n",
       "0               Térmica       Motor Diesel                  25.00   \n",
       "1               Térmica  Ciclos Combinados                 184.40   \n",
       "2            Hidráulica         Hidráulica                 150.00   \n",
       "3               Térmica  Ciclos Combinados                 525.96   \n",
       "4               Térmica  Ciclos Combinados                 319.30   \n",
       "...                 ...                ...                    ...   \n",
       "11493         Renovable             Biogas                   6.30   \n",
       "11494         Renovable              Solar                   7.00   \n",
       "11495         Renovable             Eólica                  25.20   \n",
       "11496         Renovable             Eólica                  39.60   \n",
       "11497         Renovable              Solar                  15.00   \n",
       "\n",
       "         fecha_proceso  lote_id_log  mes indice_tiempo  \n",
       "0      00:47:17.900000            4   10       2015-10  \n",
       "1      00:47:17.900000            4   10       2015-10  \n",
       "2      00:47:17.900000            4   10       2015-10  \n",
       "3      00:47:17.900000            4   10       2015-10  \n",
       "4      00:47:17.900000            4   10       2015-10  \n",
       "...                ...          ...  ...           ...  \n",
       "11493  00:53:59.300000           46    4       2019-04  \n",
       "11494  00:53:59.300000           46    4       2019-04  \n",
       "11495  00:53:59.300000           46    4       2019-04  \n",
       "11496  00:53:59.300000           46    4       2019-04  \n",
       "11497  00:53:59.300000           46    4       2019-04  \n",
       "\n",
       "[11498 rows x 15 columns]"
      ]
     },
     "execution_count": 11,
     "metadata": {},
     "output_type": "execute_result"
    }
   ],
   "source": [
    " # exploren aqui la base. Hint: tail, head, sample, info...\n",
    "df"
   ]
  },
  {
   "cell_type": "code",
   "execution_count": 13,
   "metadata": {
    "id": "XdiLXPy2KOui",
    "outputId": "b96cd9f3-7cb1-4f18-bc49-8a3ec1d1fb5c"
   },
   "outputs": [
    {
     "data": {
      "text/html": [
       "<div>\n",
       "<style scoped>\n",
       "    .dataframe tbody tr th:only-of-type {\n",
       "        vertical-align: middle;\n",
       "    }\n",
       "\n",
       "    .dataframe tbody tr th {\n",
       "        vertical-align: top;\n",
       "    }\n",
       "\n",
       "    .dataframe thead th {\n",
       "        text-align: right;\n",
       "    }\n",
       "</style>\n",
       "<table border=\"1\" class=\"dataframe\">\n",
       "  <thead>\n",
       "    <tr style=\"text-align: right;\">\n",
       "      <th></th>\n",
       "      <th>periodo</th>\n",
       "      <th>fuente_generacion</th>\n",
       "      <th>potencia_instalada_mw</th>\n",
       "    </tr>\n",
       "  </thead>\n",
       "  <tbody>\n",
       "    <tr>\n",
       "      <th>7</th>\n",
       "      <td>2015-11-01</td>\n",
       "      <td>Térmica</td>\n",
       "      <td>20289.937</td>\n",
       "    </tr>\n",
       "    <tr>\n",
       "      <th>151</th>\n",
       "      <td>2019-04-01</td>\n",
       "      <td>Térmica</td>\n",
       "      <td>24556.969</td>\n",
       "    </tr>\n",
       "    <tr>\n",
       "      <th>47</th>\n",
       "      <td>2016-09-01</td>\n",
       "      <td>Térmica</td>\n",
       "      <td>20756.667</td>\n",
       "    </tr>\n",
       "    <tr>\n",
       "      <th>52</th>\n",
       "      <td>2016-11-01</td>\n",
       "      <td>Hidráulica</td>\n",
       "      <td>10619.700</td>\n",
       "    </tr>\n",
       "    <tr>\n",
       "      <th>123</th>\n",
       "      <td>2018-04-01</td>\n",
       "      <td>Térmica</td>\n",
       "      <td>24106.050</td>\n",
       "    </tr>\n",
       "  </tbody>\n",
       "</table>\n",
       "</div>"
      ],
      "text/plain": [
       "       periodo fuente_generacion  potencia_instalada_mw\n",
       "7   2015-11-01           Térmica              20289.937\n",
       "151 2019-04-01           Térmica              24556.969\n",
       "47  2016-09-01           Térmica              20756.667\n",
       "52  2016-11-01        Hidráulica              10619.700\n",
       "123 2018-04-01           Térmica              24106.050"
      ]
     },
     "execution_count": 13,
     "metadata": {},
     "output_type": "execute_result"
    }
   ],
   "source": [
    "# Agregamos (collapse) a nivel de tipo de fuente\n",
    "df_fuente = df.groupby(by=[\"periodo\",\"fuente_generacion\"]).agg({\"potencia_instalada_mw\":\"sum\"})\n",
    "df_fuente.reset_index(inplace=True)\n",
    "df_fuente.sample(5)"
   ]
  },
  {
   "cell_type": "code",
   "execution_count": 15,
   "metadata": {
    "id": "NJ9utAqzKOuj",
    "outputId": "8bd123af-e0ba-4bc9-be38-52f1a3cb02ee"
   },
   "outputs": [
    {
     "data": {
      "text/plain": [
       "(152, 3)"
      ]
     },
     "execution_count": 15,
     "metadata": {},
     "output_type": "execute_result"
    }
   ],
   "source": [
    "df_fuente.shape"
   ]
  },
  {
   "cell_type": "markdown",
   "metadata": {},
   "source": [
    "Vamos a graficar dos líneas, así que definimos vector X e Y para cada una. Vamos a graficar la potencia instalada de generación por fuente Renovable y fuente Térmica:"
   ]
  },
  {
   "cell_type": "code",
   "execution_count": 19,
   "metadata": {
    "id": "jhirJJclKOuk"
   },
   "outputs": [],
   "source": [
    "# Definimos  vectores  de datos  para  serie 1 (renovable)\n",
    "y1 = df_fuente[df_fuente[\"fuente_generacion\"]==\"Renovable\"][\"potencia_instalada_mw\"]\n",
    "x1 = df_fuente[df_fuente[\"fuente_generacion\"]==\"Renovable\"][\"periodo\"]\n",
    "# Definimos  vectores  de datos  para  serie 2 (térmica)\n",
    "y2 = df_fuente[df_fuente[\"fuente_generacion\"]==\"Térmica\"][\"potencia_instalada_mw\"]\n",
    "x2 = df_fuente[df_fuente[\"fuente_generacion\"]==\"Térmica\"][\"periodo\"]\n",
    "\n",
    "# Nota: df[condicion][columna] selecciona la \"columna\" de la base que resulta de aplicar el filtro df[condicion]."
   ]
  },
  {
   "cell_type": "code",
   "execution_count": 21,
   "metadata": {
    "id": "Jriw9yo0KOul",
    "outputId": "439d3efc-8ea0-4cc0-a6d4-a815a549946c"
   },
   "outputs": [
    {
     "data": {
      "image/png": "[encoded data removed]",
      "text/plain": [
       "<Figure size 640x480 with 1 Axes>"
      ]
     },
     "metadata": {},
     "output_type": "display_data"
    }
   ],
   "source": [
    "# Creamos el gráfico al estilo pyplot\n",
    "\n",
    "plt.plot(x1, y1, label=\"Renovable\") # serie 1\n",
    "plt.plot(x2, y2, label=\"Térmica\") # serie 2\n",
    "# Estas  dos  líneas  estaran  sobre  el mismo  gráfico\n",
    "\n",
    "# Modifico  labels\n",
    "plt.xlabel(\"Período\")\n",
    "plt.ylabel(\"Potencia  Instalada (MW)\")\n",
    "plt.title(\"Figura 1. Producción Energética Argentina según Fuente\")\n",
    "\n",
    "# Agrego  leyenda\n",
    "plt.legend()\n",
    "plt.show() #esto es necesario para visualizar"
   ]
  },
  {
   "cell_type": "code",
   "execution_count": null,
   "metadata": {
    "id": "GBdj3IlTKOum",
    "outputId": "e58796c6-687e-4229-ccfd-373f4f1352d5"
   },
   "outputs": [],
   "source": [
    "# Creamos el gráfico al estilo OO (orientado-objetos)\n",
    "\n",
    "# Creamos la figura y los axes\n",
    "fig, ax = plt.subplots() # crear objetos\n",
    "\n",
    "# Definimos series\n",
    "ax.plot(x1, y1, label=\"Renovable\") # Serie 1\n",
    "ax.plot(x2, y2, label=\"Térmica\") # Serie 2\n",
    "\n",
    "# Modificamos labels y título\n",
    "ax.set_xlabel(\"Período\")\n",
    "ax.set_ylabel(\"Potencia  Instalada (MW)\")\n",
    "ax.set_title(\"Producción Energética Argentina según Fuente (v2)\")\n",
    "\n",
    "# Agregamos leyenda\n",
    "ax.legend()\n",
    "fig.show()"
   ]
  },
  {
   "cell_type": "code",
   "execution_count": null,
   "metadata": {
    "id": "bFHB0axvKOum",
    "outputId": "5cd4d1c0-5cbe-408c-8060-0db99a254b5d"
   },
   "outputs": [],
   "source": [
    "# Graficar múltiples gráficos estilo pyplot\n",
    "\n",
    "# ejemplo 2 ax en un fig\n",
    "plt.figure(figsize=(14, 5))\n",
    "\n",
    "# Definimos primer gráfico\n",
    "plt.subplot(121) # subplot(nrows, ncols, index, **kwargs) donde nrows=1, ncols=2, index=1\n",
    "plt.plot(x1, y1)\n",
    "plt.title(\"A. Fuente Renovable\")\n",
    "\n",
    "# Definimos segundo gráfico\n",
    "plt.subplot(122)\n",
    "plt.plot(x2, y2)\n",
    "plt.title(\"B. Fuente Térmica\")\n",
    "\n",
    "# Definimos título general de la figura\n",
    "plt.suptitle(\"Ejemplo dos gráficos en una figura\")\n",
    "plt.show()"
   ]
  },
  {
   "cell_type": "code",
   "execution_count": null,
   "metadata": {
    "id": "bFHB0axvKOum",
    "outputId": "5cd4d1c0-5cbe-408c-8060-0db99a254b5d"
   },
   "outputs": [],
   "source": [
    "# Graficar múltiples gráficos estilo O-O\n",
    "\n",
    "# ejemplo 2 ax en un fig\n",
    "fig, ax = plt.subplots(figsize=(14, 5), ncols=2, nrows=1)\n",
    "\n",
    "# Definimos primer gráfico\n",
    "ax[0].plot(x1, y1)\n",
    "ax[0].set_title(\"Fuente Renovable\")\n",
    "\n",
    "# Definimos segundo gráfico\n",
    "ax[1].plot(x2, y2)\n",
    "ax[1].set_title(\"Fuente Térmica\")\n",
    "\n",
    "# Definimos título general de la figura\n",
    "fig.suptitle(\"Ejemplo dos gráficos en una figura\")\n",
    "fig.show()"
   ]
  },
  {
   "cell_type": "markdown",
   "metadata": {},
   "source": [
    "Comentario: un gráfico orientado a objetos (O-O) en Matplotlib se refiere al uso explícito de los objetos Figure y Axes para crear y controlar un gráfico. Esto contrasta con el enfoque stateful (pyplot), que modifica el estado global de la visualización.\n"
   ]
  },
  {
   "cell_type": "markdown",
   "metadata": {},
   "source": [
    "### Gráficos con ipywidgets\n",
    "\n",
    "Los widgets en Python son objetos que tienen una representación en el navegador. Por ejemplo, los widgets pueden tener forma de una caja de texto, un desplegable, una casilla de verificación, etc.\n",
    "Más info sobre ipywidgets [acá](https://ipywidgets.readthedocs.io/en/latest/examples/Widget%20Basics.html)"
   ]
  },
  {
   "cell_type": "code",
   "execution_count": null,
   "metadata": {},
   "outputs": [],
   "source": [
    "import matplotlib.pyplot as plt\n",
    "import ipywidgets as widgets\n",
    "from IPython.display import display\n",
    "\n",
    "import datetime"
   ]
  },
  {
   "cell_type": "code",
   "execution_count": null,
   "metadata": {},
   "outputs": [],
   "source": [
    "pip install ipywidgets"
   ]
  },
  {
   "cell_type": "code",
   "execution_count": null,
   "metadata": {},
   "outputs": [],
   "source": [
    "lista_fuentes = list(set(df_fuente['fuente_generacion']))\n",
    "lista_fuentes"
   ]
  },
  {
   "cell_type": "code",
   "execution_count": null,
   "metadata": {},
   "outputs": [],
   "source": [
    "# Seleccionar tipo de fuente\n",
    "print(\"Seleccionar Fuente:\")\n",
    "fuente = widgets.Dropdown(\n",
    "    options=['Nuclear','Renovable',  'Hidráulica', 'Térmica'],\n",
    "    value='Nuclear', # \"Nuclear\" es la opción seleccionada de forma predeterminada cuando se crea el widget\n",
    "    description='Fuente:',\n",
    "    disabled=False # widget activo. si disabled=True, el widget se vuelve inactivo y el usuario no puede interactuar con él.\n",
    ")\n",
    "display(fuente) # Muestra el widget"
   ]
  },
  {
   "cell_type": "code",
   "execution_count": null,
   "metadata": {},
   "outputs": [],
   "source": [
    "fechas = list(set(df_fuente['periodo'].dt.strftime(\"%y-%m\"))) \n",
    "# set para eliminar duplicados\n",
    "# strftime() para formatear la fechas en un string según un formato deseado. \n",
    "# \"%y-%m\" formato tal que se muestren los últimos dos dígitos del año (%y) seguidos por el mes (%m).\n",
    "fechas.sort()\n",
    "fechas"
   ]
  },
  {
   "cell_type": "code",
   "execution_count": null,
   "metadata": {},
   "outputs": [],
   "source": [
    "select_fecha = widgets.SelectionRangeSlider(\n",
    "    options=fechas,\n",
    "    index=(0, len(fechas)-1),\n",
    "    description='Fechas',\n",
    "    disabled=False\n",
    ")\n",
    "display(select_fecha)"
   ]
  },
  {
   "cell_type": "code",
   "execution_count": null,
   "metadata": {},
   "outputs": [],
   "source": [
    "# Probamos si los valores quedaron actualizados\n",
    "# Para usar los valores definidos usamos .value\n",
    "\n",
    "print(\"El rango de fechas a usar es: \", select_fecha.value)\n",
    "print(\"La fuente a mostrar es: \", fuente.value)"
   ]
  },
  {
   "cell_type": "code",
   "execution_count": null,
   "metadata": {},
   "outputs": [],
   "source": [
    "# Creamos un dataframe con la selección de filas de la fuente elegida\n",
    "df_temp =  df_fuente[df_fuente['fuente_generacion'] == fuente.value]\n",
    "\n",
    "# Extraemos el objeto fecha del string creado a partir del widget\n",
    "fecha_min = datetime.datetime.strptime(select_fecha.value[0], \"%y-%m\") \n",
    "fecha_max = datetime.datetime.strptime(select_fecha.value[1], \"%y-%m\")\n",
    "# con el módulo datetime y su función strptime creamos un objeto datetime (que contiene info de date y time)\n",
    "\n",
    "# Filtramos según fechas elegidas\n",
    "df_temp = df_temp[(df_temp['periodo']>fecha_min)&(df_temp['periodo']<fecha_max)]\n",
    "\n",
    "print(\"Evolución de la potencia instalada de fuente: {}\".format(fuente.value))\n",
    "# Creamos el grafico\n",
    "plt.plot(df_temp['periodo'], df_temp['potencia_instalada_mw'], label=fuente.value) \n",
    "# Modificamos labels\n",
    "plt.xlabel('Periodo')\n",
    "plt.xticks(rotation=20)\n",
    "plt.ylabel('Potencia Instalada (MW)')\n",
    "\n",
    "# Agregamos leyenda\n",
    "plt.legend()\n",
    "plt.show()"
   ]
  },
  {
   "cell_type": "code",
   "execution_count": null,
   "metadata": {},
   "outputs": [],
   "source": []
  }
 ],
 "metadata": {
  "colab": {
   "name": "Tutorial4.ipynb",
   "provenance": []
  },
  "kernelspec": {
   "display_name": "Python [conda env:base] *",
   "language": "python",
   "name": "conda-base-py"
  },
  "language_info": {
   "codemirror_mode": {
    "name": "ipython",
    "version": 3
   },
   "file_extension": ".py",
   "mimetype": "text/x-python",
   "name": "python",
   "nbconvert_exporter": "python",
   "pygments_lexer": "ipython3",
   "version": "3.12.4"
  },
  "varInspector": {
   "cols": {
    "lenName": 16,
    "lenType": 16,
    "lenVar": 40
   },
   "kernels_config": {
    "python": {
     "delete_cmd_postfix": "",
     "delete_cmd_prefix": "del ",
     "library": "var_list.py",
     "varRefreshCmd": "print(var_dic_list())"
    },
    "r": {
     "delete_cmd_postfix": ") ",
     "delete_cmd_prefix": "rm(",
     "library": "var_list.r",
     "varRefreshCmd": "cat(var_dic_list()) "
    }
   },
   "types_to_exclude": [
    "module",
    "function",
    "builtin_function_or_method",
    "instance",
    "_Feature"
   ],
   "window_display": false
  },
  "widgets": {
   "application/vnd.jupyter.widget-state+json": {
    "4c6b2da7d7b041ce8d6a49dceba48670": {
     "model_module": "@jupyter-widgets/controls",
     "model_module_version": "1.5.0",
     "model_name": "DescriptionStyleModel",
     "state": {
      "_model_module": "@jupyter-widgets/controls",
      "_model_module_version": "1.5.0",
      "_model_name": "DescriptionStyleModel",
      "_view_count": null,
      "_view_module": "@jupyter-widgets/base",
      "_view_module_version": "1.2.0",
      "_view_name": "StyleView",
      "description_width": ""
     }
    },
    "5ece28cc8e5743c3a107c5fb1401947b": {
     "model_module": "@jupyter-widgets/controls",
     "model_module_version": "1.5.0",
     "model_name": "ToggleButtonModel",
     "state": {
      "_dom_classes": [],
      "_model_module": "@jupyter-widgets/controls",
      "_model_module_version": "1.5.0",
      "_model_name": "ToggleButtonModel",
      "_view_count": null,
      "_view_module": "@jupyter-widgets/controls",
      "_view_module_version": "1.5.0",
      "_view_name": "ToggleButtonView",
      "button_style": "",
      "description": "Show code",
      "description_tooltip": null,
      "disabled": false,
      "icon": "",
      "layout": "IPY_MODEL_d21ed9b6131846e7b852cc4c958148b3",
      "style": "IPY_MODEL_4c6b2da7d7b041ce8d6a49dceba48670",
      "tooltip": "",
      "value": false
     }
    },
    "d21ed9b6131846e7b852cc4c958148b3": {
     "model_module": "@jupyter-widgets/base",
     "model_module_version": "1.2.0",
     "model_name": "LayoutModel",
     "state": {
      "_model_module": "@jupyter-widgets/base",
      "_model_module_version": "1.2.0",
      "_model_name": "LayoutModel",
      "_view_count": null,
      "_view_module": "@jupyter-widgets/base",
      "_view_module_version": "1.2.0",
      "_view_name": "LayoutView",
      "align_content": null,
      "align_items": null,
      "align_self": null,
      "border": null,
      "bottom": null,
      "display": null,
      "flex": null,
      "flex_flow": null,
      "grid_area": null,
      "grid_auto_columns": null,
      "grid_auto_flow": null,
      "grid_auto_rows": null,
      "grid_column": null,
      "grid_gap": null,
      "grid_row": null,
      "grid_template_areas": null,
      "grid_template_columns": null,
      "grid_template_rows": null,
      "height": null,
      "justify_content": null,
      "justify_items": null,
      "left": null,
      "margin": null,
      "max_height": null,
      "max_width": null,
      "min_height": null,
      "min_width": null,
      "object_fit": null,
      "object_position": null,
      "order": null,
      "overflow": null,
      "overflow_x": null,
      "overflow_y": null,
      "padding": null,
      "right": null,
      "top": null,
      "visibility": null,
      "width": null
     }
    }
   }
  }
 },
 "nbformat": 4,
 "nbformat_minor": 4
}
